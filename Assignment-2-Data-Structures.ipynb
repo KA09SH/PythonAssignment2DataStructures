{
 "cells": [
  {
   "cell_type": "code",
   "execution_count": null,
   "id": "7423c6b4",
   "metadata": {},
   "outputs": [],
   "source": [
    "#Q1. How do you comment code in Python? What are the different types of comments?\n",
    "\n",
    "\n",
    "#A. Comments in Python are indicated by # symbol, comments are hints or a brief explanation that we use to make our code more understandable.\n",
    "\n",
    "   #Comments are completely ignored by the interpreter.\n",
    "   \n",
    "   #There are 2 types of comments\n",
    "   # Single Line Comment \n",
    "   # Multi Line Comment\n",
    "\n",
    "   #Example: 1. Single Line Comment: A single-line comment starts and ends in the same line.\n",
    "\n",
    "   #This is a single line comment\n",
    "    \n",
    "\n",
    "   #Example: 2. Multi Line Comment: Python does not provide the option for multiline comments. However, there are different ways through which we can write multiline comments.\n",
    " \n",
    "   # This is a comment\n",
    "   # it is written to\n",
    "   # indicate multiple lines.\n",
    "    \n",
    "\n",
    "\"\"\"\" This is a multi\n",
    "line comment\n",
    "in Python \n",
    "\"\"\""
   ]
  },
  {
   "cell_type": "code",
   "execution_count": 16,
   "id": "49f12d04",
   "metadata": {},
   "outputs": [
    {
     "data": {
      "text/plain": [
       "complex"
      ]
     },
     "execution_count": 16,
     "metadata": {},
     "output_type": "execute_result"
    }
   ],
   "source": [
    "#Q2. What are variables in Python? How do you declare and assign values to variables?\n",
    "\n",
    "#A. A variable in python is a symbolic name that is a reference or a pointer to an object.\n",
    "\n",
    "# It is possible to declare and assign a variable in single line in python.\n",
    "\n",
    "c = 12 + 20j\n",
    "\n",
    "type(c)\n",
    "\n",
    "# Python will decide the datatype itself(depending upon the value assigned) even if we don't declare them by ourselves.\n"
   ]
  },
  {
   "cell_type": "code",
   "execution_count": 26,
   "id": "76401546",
   "metadata": {},
   "outputs": [
    {
     "data": {
      "text/plain": [
       "(10, 20, 30, 40, 50)"
      ]
     },
     "execution_count": 26,
     "metadata": {},
     "output_type": "execute_result"
    }
   ],
   "source": [
    "#Q3. How do you convert one data type to another in Python?\n",
    "\n",
    "#A. The process of converting one data type to another is termed as type conversion\n",
    "\n",
    "list1 = [10, 20, 30, 40, 50] \n",
    "tuple1 = tuple(list1)        #converting a list to a tuple\n",
    "tuple1"
   ]
  },
  {
   "cell_type": "code",
   "execution_count": 18,
   "id": "8fe24f6f",
   "metadata": {},
   "outputs": [],
   "source": [
    "#Q4. How do you write and execute a Python script from the command line?\n",
    "\n",
    "#A. Say we have a file hello.py saved on our desktop\n",
    "\n",
    "# Open command prompt/terminal\n",
    "# type cd file pathname         cd C:\\Users\\PC\\Desktop\n",
    "# python filename               C:\\Users\\PC\\Desktop>python file.py"
   ]
  },
  {
   "cell_type": "code",
   "execution_count": 28,
   "id": "15a8154e",
   "metadata": {},
   "outputs": [
    {
     "name": "stdout",
     "output_type": "stream",
     "text": [
      "[2, 3]\n"
     ]
    }
   ],
   "source": [
    "#Q5. Given a list my_list = [1, 2, 3, 4, 5], write the code to slice the list and obtain the sub-list [2, 3].\n",
    "\n",
    "my_list = [1, 2, 3, 4, 5]\n",
    "\n",
    "print(my_list[1:3])"
   ]
  },
  {
   "cell_type": "code",
   "execution_count": 29,
   "id": "4af5e248",
   "metadata": {},
   "outputs": [
    {
     "data": {
      "text/plain": [
       "complex"
      ]
     },
     "execution_count": 29,
     "metadata": {},
     "output_type": "execute_result"
    }
   ],
   "source": [
    "#Q6. What is a complex number in mathematics, and how is it represented in Python?\n",
    "\n",
    "#A. Complex numbers are created from two real numbers. We can create them directly or you can use the complex () function.\n",
    "# It is written in the form of (x + yj) where x and y are real numbers and j is an imaginary number.\n",
    "\n",
    "# Example: 2 + 5j\n",
    "\n",
    "c = 2 + 5j\n",
    "type(c)"
   ]
  },
  {
   "cell_type": "code",
   "execution_count": 30,
   "id": "b664260c",
   "metadata": {},
   "outputs": [
    {
     "name": "stdout",
     "output_type": "stream",
     "text": [
      "25\n"
     ]
    }
   ],
   "source": [
    "#Q7. What is the correct way to declare a variable named age and assign the value 25 to it?\n",
    "\n",
    "#A. age = 25 declaring and assigning the value to variable named age\n",
    "\n",
    "age = 25   # assigning value to variable\n",
    "print(age)"
   ]
  },
  {
   "cell_type": "code",
   "execution_count": 31,
   "id": "8fd864d8",
   "metadata": {},
   "outputs": [
    {
     "data": {
      "text/plain": [
       "float"
      ]
     },
     "execution_count": 31,
     "metadata": {},
     "output_type": "execute_result"
    }
   ],
   "source": [
    "#Q8. Declare a variable named price and assign the value 9.99 to it. What data type does this variable belong to?\n",
    "\n",
    "#A. price = 9.99\n",
    "\n",
    "price = 9.99 # assigning value to variable\n",
    "type(price)  # function to return the type of variable named price"
   ]
  },
  {
   "cell_type": "code",
   "execution_count": 34,
   "id": "f79e0833",
   "metadata": {},
   "outputs": [
    {
     "name": "stdout",
     "output_type": "stream",
     "text": [
      "SHUBHAM KUMAR SINGH\n"
     ]
    }
   ],
   "source": [
    "#Q9. Create a variable named name and assign your full name to it as a string. How would you print the value of this variable?\n",
    "\n",
    "#A. name = \"SHUBHAM KUMAR SINGH\"\n",
    "\n",
    "name = \"SHUBHAM KUMAR SINGH\"   #assigning value to variable\n",
    "print(name)                    #function to print name\n"
   ]
  },
  {
   "cell_type": "code",
   "execution_count": 35,
   "id": "bcd6d52e",
   "metadata": {},
   "outputs": [
    {
     "name": "stdout",
     "output_type": "stream",
     "text": [
      "World\n"
     ]
    }
   ],
   "source": [
    "#Q10. Given the string \"Hello, World!\", extract the substring \"World\".\n",
    "\n",
    "#A. str1 = \"Hello, World!\"\n",
    "\n",
    "str1 = \"Hello, World!\"   \n",
    "print(str1[7:12])         #slicing the string to extract the desired word"
   ]
  },
  {
   "cell_type": "code",
   "execution_count": 39,
   "id": "57ace564",
   "metadata": {},
   "outputs": [
    {
     "name": "stdout",
     "output_type": "stream",
     "text": [
      "True\n"
     ]
    }
   ],
   "source": [
    "#Q11. Create a variable named \"is_student\" and assign it a boolean value indicating whether you are currently a student or not.\n",
    "\n",
    "#A. is_student = TRUE\n",
    "\n",
    "is_student = True\n",
    "print(is_student)"
   ]
  }
 ],
 "metadata": {
  "kernelspec": {
   "display_name": "Python 3 (ipykernel)",
   "language": "python",
   "name": "python3"
  },
  "language_info": {
   "codemirror_mode": {
    "name": "ipython",
    "version": 3
   },
   "file_extension": ".py",
   "mimetype": "text/x-python",
   "name": "python",
   "nbconvert_exporter": "python",
   "pygments_lexer": "ipython3",
   "version": "3.10.9"
  }
 },
 "nbformat": 4,
 "nbformat_minor": 5
}
